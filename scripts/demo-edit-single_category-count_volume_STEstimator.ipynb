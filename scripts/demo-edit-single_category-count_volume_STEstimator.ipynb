{
 "cells": [
  {
   "cell_type": "code",
   "execution_count": null,
   "id": "df64e6ad",
   "metadata": {},
   "outputs": [],
   "source": [
    "#%matplotlib widget"
   ]
  },
  {
   "cell_type": "code",
   "execution_count": null,
   "id": "baff047f",
   "metadata": {},
   "outputs": [],
   "source": [
    "%load_ext autoreload\n",
    "%autoreload 2"
   ]
  },
  {
   "cell_type": "code",
   "execution_count": null,
   "id": "e83815b2-5e5a-4a0e-ad9f-7b2f0b09788b",
   "metadata": {
    "tags": []
   },
   "outputs": [],
   "source": [
    "#%pip install lab_black\n",
    "#%load_ext lab_black\n",
    "%cd .."
   ]
  },
  {
   "cell_type": "code",
   "execution_count": null,
   "id": "efb89b5d-ac8f-49a1-80ed-3be17153192a",
   "metadata": {
    "tags": []
   },
   "outputs": [],
   "source": [
    "from pathlib import Path\n",
    "\n",
    "import torch as th\n",
    "import torch.nn.functional as F\n",
    "import numpy as np\n",
    "import yaml\n",
    "from easydict import EasyDict\n",
    "\n",
    "from src.utils import instantiate_from_config, get_device\n",
    "from src.utils.vis import save_sdf_as_mesh"
   ]
  },
  {
   "cell_type": "code",
   "execution_count": null,
   "id": "690ae8df-0703-4eed-94e8-0c75126d7118",
   "metadata": {
    "tags": []
   },
   "outputs": [],
   "source": [
    "th.set_grad_enabled(False)\n",
    "device = get_device()\n",
    "device"
   ]
  },
  {
   "cell_type": "markdown",
   "id": "de3ab22a-d774-490f-980a-6e310bae128c",
   "metadata": {},
   "source": [
    "# Load Pretrained Models"
   ]
  },
  {
   "cell_type": "code",
   "execution_count": null,
   "id": "ce1928db-db77-4b88-b36f-8613a810399e",
   "metadata": {
    "tags": []
   },
   "outputs": [],
   "source": [
    "gen32_args_path = \"config/gen32/chair.yaml\"\n",
    "gen32_ckpt_path = \"results/gen32/chair.pth\"\n",
    "sr64_args_path = \"config/sr32_64/chair.yaml\"\n",
    "sr64_ckpt_path = \"results/sr32_64/chair.pth\""
   ]
  },
  {
   "cell_type": "code",
   "execution_count": null,
   "id": "0dcebfec-8f2b-42ae-9a55-e8517bee8cae",
   "metadata": {
    "tags": []
   },
   "outputs": [],
   "source": [
    "with open(gen32_args_path) as f:\n",
    "    args1 = EasyDict(yaml.safe_load(f))\n",
    "with open(sr64_args_path) as f:\n",
    "    args2 = EasyDict(yaml.safe_load(f))"
   ]
  },
  {
   "cell_type": "code",
   "execution_count": null,
   "id": "ae75f0c2-b8fe-4d80-8797-894a6d077f81",
   "metadata": {
    "tags": []
   },
   "outputs": [],
   "source": [
    "model1 = instantiate_from_config(args1.model)\n",
    "ckpt = th.load(gen32_ckpt_path, map_location=device)\n",
    "model1.load_state_dict(ckpt[\"model_ema\"])\n",
    "model1 = model1.to(device)\n",
    "model1.eval()\n",
    "model1.training"
   ]
  },
  {
   "cell_type": "code",
   "execution_count": null,
   "id": "6d4f4dbd-6fca-409e-bbef-e85f7a066b74",
   "metadata": {
    "tags": []
   },
   "outputs": [],
   "source": [
    "model2 = instantiate_from_config(args2.model)\n",
    "ckpt = th.load(sr64_ckpt_path, map_location=device)\n",
    "model2.load_state_dict(ckpt[\"model\"])\n",
    "model2 = model2.to(device)\n",
    "model2.eval()\n",
    "model2.training"
   ]
  },
  {
   "cell_type": "code",
   "execution_count": null,
   "id": "00efd984-8e93-4041-84cf-d70b3cd64bf7",
   "metadata": {
    "tags": []
   },
   "outputs": [],
   "source": [
    "ddpm_sampler1 = instantiate_from_config(args1.ddpm.valid, device=device)\n",
    "ddpm_sampler2 = instantiate_from_config(args2.ddpm.valid, device=device)\n",
    "\n",
    "ddpm_sampler1, ddpm_sampler2 = ddpm_sampler1.to(device), ddpm_sampler2.to(device)"
   ]
  },
  {
   "cell_type": "code",
   "execution_count": null,
   "id": "ac4e87cc-6e85-4cc7-b41e-beac554f1d5d",
   "metadata": {
    "tags": []
   },
   "outputs": [],
   "source": [
    "preprocessor1 = instantiate_from_config(args1.preprocessor, device=device)\n",
    "preprocessor2 = instantiate_from_config(args2.preprocessor, device=device)"
   ]
  },
  {
   "cell_type": "markdown",
   "id": "03c31d13-c9b5-42b3-bf7e-6819aee68b44",
   "metadata": {},
   "source": [
    "# Generate Low-Resolution ($32^3$)\n",
    "\n",
    "Generates 5 low-resolution samples"
   ]
  },
  {
   "cell_type": "code",
   "execution_count": null,
   "id": "7517b937",
   "metadata": {},
   "outputs": [],
   "source": [
    "from src.utils.utils import seed_everything\n",
    "seed_everything(40)"
   ]
  },
  {
   "cell_type": "code",
   "execution_count": null,
   "id": "06e759bd-f309-48e5-8c1e-e7b8fb0dfa2d",
   "metadata": {
    "tags": []
   },
   "outputs": [],
   "source": [
    "out1 = ddpm_sampler1.sample_ddim(model1, (1, 1, 32, 32, 32), show_pbar=True)"
   ]
  },
  {
   "cell_type": "code",
   "execution_count": null,
   "id": "91fceb1e-d513-40b5-8954-e766fb82808a",
   "metadata": {
    "tags": []
   },
   "outputs": [],
   "source": [
    "out1 = preprocessor1.destandardize(out1)\n",
    "out1.shape"
   ]
  },
  {
   "cell_type": "code",
   "execution_count": null,
   "id": "9df03618",
   "metadata": {},
   "outputs": [],
   "source": [
    "# TODO: with mps I get same samples across batches\n",
    "#th.allclose(*out1[:2]), th.allclose(*out1[1:3]), th.allclose(*out1[0:3:2])"
   ]
  },
  {
   "cell_type": "code",
   "execution_count": null,
   "id": "036976bb",
   "metadata": {},
   "outputs": [],
   "source": [
    "from src.utils.vis import plot_sdfs\n",
    "#view_kwargs = {\"azim\": 57, \"elev\": 6, \"roll\": 0, \"vertical_axis\": \"y\"}\n",
    "view_kwargs = {\"azim\": 30, \"elev\": 30, \"roll\": 0, \"vertical_axis\": \"y\"}\n",
    "plot_sdfs(list(out1), view_kwargs=view_kwargs)"
   ]
  },
  {
   "cell_type": "code",
   "execution_count": null,
   "id": "997dc3e6-1c88-4245-9bfb-909d8247c016",
   "metadata": {
    "tags": []
   },
   "outputs": [],
   "source": [
    "# save as an obj file\n",
    "# for i, out in enumerate(out1):\n",
    "#     save_sdf_as_mesh(f\"gen32_{i}.obj\", out, safe=True)"
   ]
  },
  {
   "cell_type": "code",
   "execution_count": null,
   "id": "2f373ea5",
   "metadata": {},
   "outputs": [],
   "source": [
    "lr_cond = F.interpolate(out1, (64, 64, 64), mode=\"nearest\")\n",
    "lr_cond = preprocessor2.standardize(lr_cond, 0)\n",
    "out2 = ddpm_sampler2.sample_ddim(lambda x, t: model2(th.cat([lr_cond, x], 1), t), (out1.shape[0], 1, 64, 64, 64), show_pbar=True)\n",
    "\n",
    "out2 = preprocessor2.destandardize(out2, 1)\n",
    "\n",
    "#for i, out in enumerate(out2):\n",
    "#    save_sdf_as_mesh(f\"sr64_{i}.obj\", out, safe=True)\n",
    "\n",
    "plot_sdfs(list(out2), title=\"Super-resolution origianal samples\")"
   ]
  },
  {
   "cell_type": "code",
   "execution_count": null,
   "id": "b8116937",
   "metadata": {},
   "outputs": [],
   "source": [
    "# Test inversion\n",
    "out1_inv = ddpm_sampler1.sample_ddim(model1, x_t = ddpm_sampler1.invert_ddim(model1, preprocessor1.standardize(out1), show_pbar=True, debug_plot=True), show_pbar=True)"
   ]
  },
  {
   "cell_type": "code",
   "execution_count": null,
   "id": "7040897e",
   "metadata": {},
   "outputs": [],
   "source": [
    "out1_inv = preprocessor1.destandardize(out1_inv)\n",
    "out1_inv.shape"
   ]
  },
  {
   "cell_type": "code",
   "execution_count": null,
   "id": "fda1a2f9",
   "metadata": {},
   "outputs": [],
   "source": [
    "# save as an obj file\n",
    "# for i, out in enumerate(out1_inv):\n",
    "#     save_sdf_as_mesh(f\"inv_gen32_{i}.obj\", out, safe=True)"
   ]
  },
  {
   "cell_type": "code",
   "execution_count": null,
   "id": "244d43c3",
   "metadata": {},
   "outputs": [],
   "source": [
    "# compute norm difference\n",
    "th.norm(out1 - out1_inv)"
   ]
  },
  {
   "cell_type": "code",
   "execution_count": null,
   "id": "ccc4b7a7",
   "metadata": {},
   "outputs": [],
   "source": [
    "plot_sdfs([out1, out1_inv], titles=[\"Original\", \"Predicted from inversion\"])"
   ]
  },
  {
   "cell_type": "code",
   "execution_count": null,
   "id": "98aea0a3",
   "metadata": {},
   "outputs": [],
   "source": [
    "del out1_inv"
   ]
  },
  {
   "cell_type": "code",
   "execution_count": null,
   "id": "f5dfecce",
   "metadata": {},
   "outputs": [],
   "source": [
    "# Optimization \n",
    "def volume_estimates(sdfs, dx=1., dy=1., dz=1.): \n",
    "    #inside_mask = (-sdfs) > 0\n",
    "    #volume_estimates = th.sum(inside_mask.float(), dim=list(range(1, sdfs.ndim)))\n",
    "    volume_estimates_activation = th.sum(StraightThroughEstimator()(-sdfs), dim=list(range(1, sdfs.ndim)))\n",
    "    #assert th.allclose(volume_estimates, volume_estimates_bin_activation), f\"using mask: {volume_estimates}, with activation function {volume_estimates_bin_activation}\"\n",
    "    return volume_estimates_activation * dx * dy * dz\n",
    "\n",
    "class STEFunction(th.autograd.Function):\n",
    "    @staticmethod\n",
    "    def forward(ctx, input):\n",
    "        return (input > 0).float()\n",
    "\n",
    "    @staticmethod\n",
    "    def backward(ctx, grad_output):\n",
    "        return F.hardtanh(grad_output)\n",
    "\n",
    "class StraightThroughEstimator(th.nn.Module):\n",
    "    def __init__(self):\n",
    "        super(StraightThroughEstimator, self).__init__()\n",
    "\n",
    "    def forward(self, x):\n",
    "        x = STEFunction.apply(x)\n",
    "        return x\n",
    " \n",
    "\n",
    "def volume_estimates_loss_fn(xs, target_volumes, max_volume=1., grad_var_reg_weight=0, tot_variation_reg_weight=0):\n",
    "    input_volumes = volume_estimates(xs) / max_volume\n",
    "    target_volumes = target_volumes / max_volume\n",
    "    loss = th.nn.MSELoss()(input_volumes, target_volumes)\n",
    "    return loss + grad_var_reg_weight * th.var(xs.grad, dim=list(range(1, xs.ndim))) + tot_variation_reg_weight * tot_variation(xs)\n",
    "\n",
    "\n",
    "def tot_variation(sdfs):      \n",
    "    tv_x = ((sdfs[:,:,1:,:,:] - sdfs[:,:,:-1,:,:]).pow(2)).sum()\n",
    "    tv_y = ((sdfs[:,:,:,1:,:] - sdfs[:,:,:,:-1,:]).pow(2)).sum()    \n",
    "    tv_z = ((sdfs[:,:,:,:,1:] - sdfs[:,:,:,:,:-1]).pow(2)).sum()\n",
    "    return tv_x + tv_y + tv_z\n"
   ]
  },
  {
   "cell_type": "code",
   "execution_count": null,
   "id": "4a241dea",
   "metadata": {},
   "outputs": [],
   "source": [
    "out1_std = preprocessor1.standardize(out1)"
   ]
  },
  {
   "cell_type": "code",
   "execution_count": null,
   "id": "851375d6",
   "metadata": {},
   "outputs": [],
   "source": [
    "out1_std.mean(), out1_std.min(), out1_std.max(), out1_std.var()"
   ]
  },
  {
   "cell_type": "code",
   "execution_count": null,
   "id": "4fb5cd8c",
   "metadata": {},
   "outputs": [],
   "source": [
    "out1.mean(), out1.min(), out1.max(), out1.var()"
   ]
  },
  {
   "cell_type": "code",
   "execution_count": null,
   "id": "fb5a1e2e",
   "metadata": {},
   "outputs": [],
   "source": [
    "shift = -0.062\n",
    "plot_sdfs(\n",
    "    [out1, out1 + shift], \n",
    "    titles=[\n",
    "        [f\"Original \\n $V={volume_estimates(out_i).item()}$\" for out_i in out1], \n",
    "        [f\"Shifting the sdfs by ${shift}$ \\n $V={volume_estimates(out_i_shift).item()}$ (incr.: ${((volume_estimates(out_i_shift).item() - volume_estimates(out_i).item())/volume_estimates(out_i).item()):.2f}$)\" for out_i_shift, out_i in zip(out1+shift, out1)], \n",
    "])"
   ]
  },
  {
   "cell_type": "code",
   "execution_count": null,
   "id": "d984b3a4",
   "metadata": {},
   "outputs": [],
   "source": [
    "target_volume_increment = 0.7\n",
    "t_optim_idx = 8\n",
    "x_edited, x_t, x_t_optim = ddpm_sampler1.ddim_sample_latent_optimization(\n",
    "    model1, \n",
    "    x_0=out1_std, \n",
    "    obj_fn=volume_estimates_loss_fn, \n",
    "    obj_fn_args={\"target_volumes\": volume_estimates(out1_std) * (1+target_volume_increment), \"max_volume\":1},\n",
    "    t_optim_idx=t_optim_idx, \n",
    "    tgt_noise_level=\"t_optim\",\n",
    "    opt_kwargs={\"weight_decay\": 0},\n",
    ").values()\n",
    "\n",
    "plot_sdfs(sdfs=[x_t, x_t_optim], title=f\"Latent at $t={ddpm_sampler1.ddim_timesteps[t_optim_idx]}$\", titles=[\"Latent to be optimized\", \"Optimized latent\"]) \n",
    "\n",
    "plot_sdfs(\n",
    "    sdfs=[\n",
    "        out1, \n",
    "        preprocessor1.destandardize(x_edited), \n",
    "        #th.abs(out1- preprocessor1.destandardize(x_edited))\n",
    "    ], \n",
    "    title = f\"Optimization on the latent at $t={ddpm_sampler1.ddim_timesteps[t_optim_idx]}$ based on the volume at $t={ddpm_sampler1.ddim_timesteps[t_optim_idx]}$\",\n",
    "    titles=[\n",
    "        [f\"Original ($V = {volume_estimates(out1_std)[i].item():.2f}$)\" for i in range(out1.shape[0])], \n",
    "        [f\"Edited ($V_E = {volume_estimates(x_edited)[i].item():.2f} - V_{{target}}: {volume_estimates(out1_std)[i].item() * (1+target_volume_increment):.2f})$\" for i in range(out1.shape[0])],\n",
    "        #[f\"Absolute difference between original and edited\" for i in range(out1.shape[0])]\n",
    "        ]\n",
    ")"
   ]
  },
  {
   "cell_type": "code",
   "execution_count": null,
   "id": "74f86576",
   "metadata": {},
   "outputs": [],
   "source": [
    "target_volume_increment = 0.7\n",
    "t_optim_idx = 5\n",
    "x_edited, x_t, x_t_optim = ddpm_sampler1.ddim_sample_latent_optimization(\n",
    "    model1, \n",
    "    x_0=out1_std, \n",
    "    obj_fn=volume_estimates_loss_fn, \n",
    "    obj_fn_args={\"target_volumes\": volume_estimates(out1_std) * (1+target_volume_increment), \"max_volume\":1},\n",
    "    t_optim_idx=t_optim_idx, \n",
    "    tgt_noise_level=\"t_optim\",\n",
    "    opt_kwargs={\"weight_decay\": 0},\n",
    ").values()\n",
    "\n",
    "plot_sdfs(sdfs=[x_t, x_t_optim], title=f\"Latent at $t={ddpm_sampler1.ddim_timesteps[t_optim_idx]}$\", titles=[\"Latent to be optimized\", \"Optimized latent\"]) \n",
    "\n",
    "plot_sdfs(\n",
    "    sdfs=[\n",
    "        out1, \n",
    "        preprocessor1.destandardize(x_edited), \n",
    "        #th.abs(out1- preprocessor1.destandardize(x_edited))\n",
    "    ], \n",
    "    title = f\"Optimization on the latent at $t={ddpm_sampler1.ddim_timesteps[t_optim_idx]}$ based on the volume at $t={ddpm_sampler1.ddim_timesteps[t_optim_idx]}$\",\n",
    "    titles=[\n",
    "        [f\"Original ($V = {volume_estimates(out1_std)[i].item():.2f}$)\" for i in range(out1.shape[0])], \n",
    "        [f\"Edited ($V_E = {volume_estimates(x_edited)[i].item():.2f} - V_{{target}}: {volume_estimates(out1_std)[i].item() * (1+target_volume_increment):.2f})$\" for i in range(out1.shape[0])],\n",
    "        #[f\"Absolute difference between original and edited\" for i in range(out1.shape[0])]\n",
    "        ]\n",
    ")"
   ]
  },
  {
   "cell_type": "code",
   "execution_count": null,
   "id": "6518c1f0",
   "metadata": {},
   "outputs": [],
   "source": [
    "target_volume_increment = 0.7\n",
    "t_optim_idx = 15\n",
    "x_edited, x_t, x_t_optim = ddpm_sampler1.ddim_sample_latent_optimization(\n",
    "    model1, \n",
    "    x_0=out1_std, \n",
    "    obj_fn=volume_estimates_loss_fn, \n",
    "    obj_fn_args={\"target_volumes\": volume_estimates(out1_std) * (1+target_volume_increment), \"max_volume\":1},\n",
    "    t_optim_idx=t_optim_idx, \n",
    "    tgt_noise_level=\"t_optim\",\n",
    "    opt_kwargs={\"weight_decay\": 0},\n",
    ").values()\n",
    "\n",
    "plot_sdfs(sdfs=[x_t, x_t_optim], title=f\"Latent at $t={ddpm_sampler1.ddim_timesteps[t_optim_idx]}$\", titles=[\"Latent to be optimized\", \"Optimized latent\"]) \n",
    "\n",
    "plot_sdfs(\n",
    "    sdfs=[\n",
    "        out1, \n",
    "        preprocessor1.destandardize(x_edited), \n",
    "        #th.abs(out1- preprocessor1.destandardize(x_edited))\n",
    "    ], \n",
    "    title = f\"Optimization on the latent at $t={ddpm_sampler1.ddim_timesteps[t_optim_idx]}$ based on the volume at $t={ddpm_sampler1.ddim_timesteps[t_optim_idx]}$\",\n",
    "    titles=[\n",
    "        [f\"Original ($V = {volume_estimates(out1_std)[i].item():.2f}$)\" for i in range(out1.shape[0])], \n",
    "        [f\"Edited ($V_E = {volume_estimates(x_edited)[i].item():.2f} - V_{{target}}: {volume_estimates(out1_std)[i].item() * (1+target_volume_increment):.2f})$\" for i in range(out1.shape[0])],\n",
    "        #[f\"Absolute difference between original and edited\" for i in range(out1.shape[0])]\n",
    "        ]\n",
    ")"
   ]
  },
  {
   "cell_type": "code",
   "execution_count": null,
   "id": "c534ee1f",
   "metadata": {},
   "outputs": [],
   "source": [
    "target_volume_increment = 0.4\n",
    "t_optim_idx = 3\n",
    "x_edited, x_t, x_t_optim = ddpm_sampler1.ddim_sample_latent_optimization(\n",
    "    model1, \n",
    "    x_0=out1_std, \n",
    "    obj_fn=volume_estimates_loss_fn,\n",
    "    obj_fn_args={\"target_volumes\": volume_estimates(out1_std) * (1+target_volume_increment)},\n",
    "    t_optim_idx=t_optim_idx,\n",
    "    tgt_noise_level=\"zero\",\n",
    "#    max_opt_iters=50,\n",
    "    loss_threshold=20,\n",
    "    opt_kwargs={\"lr\":1e-2, \"weight_decay\": 0},\n",
    ").values()\n",
    "\n",
    "plot_sdfs(sdfs=[x_t, x_t_optim], title=f\"Latent at $t={ddpm_sampler1.ddim_timesteps[t_optim_idx]}$\", titles=[\"Latent to be optimized\", \"Optimized latent\"]) \n",
    "\n",
    "plot_sdfs(\n",
    "    sdfs=[\n",
    "        out1, \n",
    "        preprocessor1.destandardize(x_edited), \n",
    "        # th.abs(out1- preprocessor1.destandardize(x_edited))\n",
    "    ], \n",
    "    title = f\"Optimization on the latent at $t={ddpm_sampler1.ddim_timesteps[t_optim_idx]}$ based on the volume at $t=0$\",\n",
    "    titles=[\n",
    "        [f\"Original ($V = {volume_estimates(out1_std)[i].item():.2f}$)\" for i in range(out1.shape[0])], \n",
    "        [f\"Edited ($V_E = {volume_estimates(x_edited)[i].item():.2f} - V_{{target}}: {volume_estimates(out1_std)[i].item() * (1+target_volume_increment):.2f})$\" for i in range(out1.shape[0])],\n",
    "        # [f\"Absolute difference between original and edited\" for i in range(out1.shape[0])]\n",
    "        ]\n",
    ")"
   ]
  },
  {
   "cell_type": "code",
   "execution_count": null,
   "id": "1770f914",
   "metadata": {},
   "outputs": [],
   "source": [
    "target_volume_increment = 0.7\n",
    "t_optim_idx = 3\n",
    "x_edited, x_t, x_t_optim = ddpm_sampler1.ddim_sample_latent_optimization(\n",
    "    model1, \n",
    "    x_0=out1_std, \n",
    "    obj_fn=volume_estimates_loss_fn,\n",
    "    obj_fn_args={\"target_volumes\": volume_estimates(out1_std) * (1+target_volume_increment), \"grad_var_reg_weight\": 10},\n",
    "    t_optim_idx=t_optim_idx,\n",
    "    tgt_noise_level=\"zero\",\n",
    "#    max_opt_iters=50,\n",
    "    loss_threshold=20,\n",
    "    opt_kwargs={\"lr\":1e-2, \"weight_decay\": 0.},\n",
    ").values()\n",
    "\n",
    "plot_sdfs(sdfs=[x_t, x_t_optim], title=f\"Latent at $t={ddpm_sampler1.ddim_timesteps[t_optim_idx]}$\", titles=[\"Latent to be optimized\", \"Optimized latent\"]) \n",
    "\n",
    "plot_sdfs(\n",
    "    sdfs=[\n",
    "        out1, \n",
    "        preprocessor1.destandardize(x_edited), \n",
    "        # th.abs(out1- preprocessor1.destandardize(x_edited))\n",
    "    ], \n",
    "    title = f\"Optimization on the latent at $t={ddpm_sampler1.ddim_timesteps[t_optim_idx]}$ based on the volume at $t=0$\",\n",
    "    titles=[\n",
    "        [f\"Original ($V = {volume_estimates(out1_std)[i].item():.2f}$)\" for i in range(out1.shape[0])], \n",
    "        [f\"Edited ($V_E = {volume_estimates(x_edited)[i].item():.2f} - V_{{target}}: {volume_estimates(out1_std)[i].item() * (1+target_volume_increment):.2f})$\" for i in range(out1.shape[0])],\n",
    "        # [f\"Absolute difference between original and edited\" for i in range(out1.shape[0])]\n",
    "        ]\n",
    ")"
   ]
  },
  {
   "cell_type": "code",
   "execution_count": null,
   "id": "d785d0bb",
   "metadata": {},
   "outputs": [],
   "source": [
    "target_volume_increment = 0.7\n",
    "t_optim_idx = 3\n",
    "x_edited, x_t, x_t_optim = ddpm_sampler1.ddim_sample_latent_optimization(\n",
    "    model1, \n",
    "    x_0=out1_std, \n",
    "    obj_fn=volume_estimates_loss_fn,\n",
    "    obj_fn_args={\"target_volumes\": volume_estimates(out1_std) * (1+target_volume_increment), \"grad_var_reg_weight\": 1000},\n",
    "    t_optim_idx=t_optim_idx,\n",
    "    tgt_noise_level=\"zero\",\n",
    "#    max_opt_iters=50,\n",
    "    loss_threshold=50,\n",
    "    opt_kwargs={\"lr\":1e-2, \"weight_decay\": 0.},\n",
    ").values()\n",
    "\n",
    "plot_sdfs(sdfs=[x_t, x_t_optim], title=f\"Latent at $t={ddpm_sampler1.ddim_timesteps[t_optim_idx]}$\", titles=[\"Latent to be optimized\", \"Optimized latent\"]) \n",
    "\n",
    "plot_sdfs(\n",
    "    sdfs=[\n",
    "        out1, \n",
    "        preprocessor1.destandardize(x_edited), \n",
    "        # th.abs(out1- preprocessor1.destandardize(x_edited))\n",
    "    ], \n",
    "    title = f\"Optimization on the latent at $t={ddpm_sampler1.ddim_timesteps[t_optim_idx]}$ based on the volume at $t=0$\",\n",
    "    titles=[\n",
    "        [f\"Original ($V = {volume_estimates(out1_std)[i].item():.2f}$)\" for i in range(out1.shape[0])], \n",
    "        [f\"Edited ($V_E = {volume_estimates(x_edited)[i].item():.2f} - V_{{target}}: {volume_estimates(out1_std)[i].item() * (1+target_volume_increment):.2f})$\" for i in range(out1.shape[0])],\n",
    "        # [f\"Absolute difference between original and edited\" for i in range(out1.shape[0])]\n",
    "        ]\n",
    ")"
   ]
  },
  {
   "cell_type": "code",
   "execution_count": null,
   "id": "deeff036",
   "metadata": {},
   "outputs": [],
   "source": [
    "target_volume_increment = 0.7\n",
    "t_optim_idx = 3\n",
    "x_edited, x_t, x_t_optim = ddpm_sampler1.ddim_sample_latent_optimization(\n",
    "    model1, \n",
    "    x_0=out1_std, \n",
    "    obj_fn=volume_estimates_loss_fn,\n",
    "    obj_fn_args={\"target_volumes\": volume_estimates(out1_std) * (1+target_volume_increment), \"tot_variation_reg_weight\": 1},\n",
    "    t_optim_idx=t_optim_idx,\n",
    "    tgt_noise_level=\"zero\",\n",
    "#    max_opt_iters=50,\n",
    "    loss_threshold=50,\n",
    "    opt_kwargs={\"lr\":1e-2, \"weight_decay\": 0.},\n",
    ").values()\n",
    "\n",
    "plot_sdfs(sdfs=[x_t, x_t_optim], title=f\"Latent at $t={ddpm_sampler1.ddim_timesteps[t_optim_idx]}$\", titles=[\"Latent to be optimized\", \"Optimized latent\"]) \n",
    "\n",
    "plot_sdfs(\n",
    "    sdfs=[\n",
    "        out1, \n",
    "        preprocessor1.destandardize(x_edited), \n",
    "        # th.abs(out1- preprocessor1.destandardize(x_edited))\n",
    "    ], \n",
    "    title = f\"Optimization on the latent at $t={ddpm_sampler1.ddim_timesteps[t_optim_idx]}$ based on the volume at $t=0$\",\n",
    "    titles=[\n",
    "        [f\"Original ($V = {volume_estimates(out1_std)[i].item():.2f}$)\" for i in range(out1.shape[0])], \n",
    "        [f\"Edited ($V_E = {volume_estimates(x_edited)[i].item():.2f} - V_{{target}}: {volume_estimates(out1_std)[i].item() * (1+target_volume_increment):.2f})$\" for i in range(out1.shape[0])],\n",
    "        # [f\"Absolute difference between original and edited\" for i in range(out1.shape[0])]\n",
    "        ]\n",
    ")"
   ]
  },
  {
   "cell_type": "code",
   "execution_count": null,
   "id": "cf172acb",
   "metadata": {},
   "outputs": [],
   "source": [
    "target_volume_increment = 0.7\n",
    "t_optim_idx = 3\n",
    "x_edited, x_t, x_t_optim = ddpm_sampler1.ddim_sample_latent_optimization(\n",
    "    model1, \n",
    "    x_0=out1_std, \n",
    "    obj_fn=volume_estimates_loss_fn,\n",
    "    obj_fn_args={\"target_volumes\": volume_estimates(out1_std) * (1+target_volume_increment)},\n",
    "    t_optim_idx=t_optim_idx,\n",
    "    tgt_noise_level=\"zero\",\n",
    "#    max_opt_iters=50,\n",
    "    loss_threshold=20,\n",
    "    opt_kwargs={\"lr\":1e-2, \"weight_decay\": 1e-3},\n",
    ").values()\n",
    "\n",
    "plot_sdfs(sdfs=[x_t, x_t_optim], title=f\"Latent at $t={ddpm_sampler1.ddim_timesteps[t_optim_idx]}$\", titles=[\"Latent to be optimized\", \"Optimized latent\"]) \n",
    "\n",
    "plot_sdfs(\n",
    "    sdfs=[\n",
    "        out1, \n",
    "        preprocessor1.destandardize(x_edited), \n",
    "        # th.abs(out1- preprocessor1.destandardize(x_edited))\n",
    "    ], \n",
    "    title = f\"Optimization on the latent at $t={ddpm_sampler1.ddim_timesteps[t_optim_idx]}$ based on the volume at $t=0$\",\n",
    "    titles=[\n",
    "        [f\"Original ($V = {volume_estimates(out1_std)[i].item():.2f}$)\" for i in range(out1.shape[0])], \n",
    "        [f\"Edited ($V_E = {volume_estimates(x_edited)[i].item():.2f} - V_{{target}}: {volume_estimates(out1_std)[i].item() * (1+target_volume_increment):.2f})$\" for i in range(out1.shape[0])],\n",
    "        # [f\"Absolute difference between original and edited\" for i in range(out1.shape[0])]\n",
    "        ]\n",
    ")"
   ]
  },
  {
   "cell_type": "code",
   "execution_count": null,
   "id": "d24eda84",
   "metadata": {},
   "outputs": [],
   "source": [
    "target_volume_increment = 0.7\n",
    "t_optim_idx = 3\n",
    "x_edited, x_t, x_t_optim = ddpm_sampler1.ddim_sample_latent_optimization(\n",
    "    model1, \n",
    "    x_0=out1_std, \n",
    "    obj_fn=volume_estimates_loss_fn,\n",
    "    obj_fn_args={\"target_volumes\": volume_estimates(out1_std) * (1+target_volume_increment)},\n",
    "    t_optim_idx=t_optim_idx,\n",
    "    tgt_noise_level=\"zero\",\n",
    "#    max_opt_iters=50,\n",
    "    loss_threshold=20,\n",
    "    #opt_kwargs={\"lr\":1e-3, \"weight_decay\": 1e-2}, # AdamW default # Too slow with lr=1e-3\n",
    "    opt_kwargs={\"lr\":1e-2, \"weight_decay\": 1e-2}, \n",
    ").values()\n",
    "\n",
    "plot_sdfs(sdfs=[x_t, x_t_optim], title=f\"Latent at $t={ddpm_sampler1.ddim_timesteps[t_optim_idx]}$\", titles=[\"Latent to be optimized\", \"Optimized latent\"]) \n",
    "\n",
    "plot_sdfs(\n",
    "    sdfs=[\n",
    "        out1, \n",
    "        preprocessor1.destandardize(x_edited), \n",
    "        # th.abs(out1- preprocessor1.destandardize(x_edited))\n",
    "    ], \n",
    "    title = f\"Optimization on the latent at $t={ddpm_sampler1.ddim_timesteps[t_optim_idx]}$ based on the volume at $t=0$\",\n",
    "    titles=[\n",
    "        [f\"Original ($V = {volume_estimates(out1_std)[i].item():.2f}$)\" for i in range(out1.shape[0])], \n",
    "        [f\"Edited ($V_E = {volume_estimates(x_edited)[i].item():.2f} - V_{{target}}: {volume_estimates(out1_std)[i].item() * (1+target_volume_increment):.2f})$\" for i in range(out1.shape[0])],\n",
    "        # [f\"Absolute difference between original and edited\" for i in range(out1.shape[0])]\n",
    "        ]\n",
    ")"
   ]
  },
  {
   "cell_type": "code",
   "execution_count": null,
   "id": "15d70f23",
   "metadata": {},
   "outputs": [],
   "source": [
    "target_volume_increment = 0.7\n",
    "t_optim_idx = 3\n",
    "x_edited, x_t, x_t_optim = ddpm_sampler1.ddim_sample_latent_optimization(\n",
    "    model1, \n",
    "    x_0=out1_std, \n",
    "    obj_fn=volume_estimates_loss_fn,\n",
    "    obj_fn_args={\"target_volumes\": volume_estimates(out1_std) * (1+target_volume_increment)},\n",
    "    t_optim_idx=t_optim_idx,\n",
    "    tgt_noise_level=\"zero\",\n",
    "#    max_opt_iters=50,\n",
    "    loss_threshold=20,\n",
    "    opt_kwargs={\"lr\":1e-3, \"weight_decay\": 0.},\n",
    "    grad_clip_value=2.,\n",
    ").values()\n",
    "\n",
    "plot_sdfs(sdfs=[x_t, x_t_optim], title=f\"Latent at $t={ddpm_sampler1.ddim_timesteps[t_optim_idx]}$\", titles=[\"Latent to be optimized\", \"Optimized latent\"]) \n",
    "\n",
    "plot_sdfs(\n",
    "    sdfs=[\n",
    "        out1, \n",
    "        preprocessor1.destandardize(x_edited), \n",
    "        # th.abs(out1- preprocessor1.destandardize(x_edited))\n",
    "    ], \n",
    "    title = f\"Optimization on the latent at $t={ddpm_sampler1.ddim_timesteps[t_optim_idx]}$ based on the volume at $t=0$\",\n",
    "    titles=[\n",
    "        [f\"Original ($V = {volume_estimates(out1_std)[i].item():.2f}$)\" for i in range(out1.shape[0])], \n",
    "        [f\"Edited ($V_E = {volume_estimates(x_edited)[i].item():.2f} - V_{{target}}: {volume_estimates(out1_std)[i].item() * (1+target_volume_increment):.2f})$\" for i in range(out1.shape[0])],\n",
    "        # [f\"Absolute difference between original and edited\" for i in range(out1.shape[0])]\n",
    "        ]\n",
    ")"
   ]
  },
  {
   "cell_type": "markdown",
   "id": "b481fe0b",
   "metadata": {},
   "source": [
    "too slow"
   ]
  },
  {
   "cell_type": "code",
   "execution_count": null,
   "id": "41dd2bb2",
   "metadata": {},
   "outputs": [],
   "source": [
    "out1_std.min(), out1_std.max(), out1_std.mean(), out1_std.var()"
   ]
  },
  {
   "cell_type": "code",
   "execution_count": null,
   "id": "d1bb5095",
   "metadata": {},
   "outputs": [],
   "source": [
    "out1.min(), out1.max(), out1.mean(), out1.var()"
   ]
  },
  {
   "cell_type": "code",
   "execution_count": null,
   "id": "bdded417",
   "metadata": {},
   "outputs": [],
   "source": [
    "shift = -0.049\n",
    "plot_sdfs(\n",
    "    [out1, out1 + shift], \n",
    "    titles=[\n",
    "        [f\"Original \\n $V={volume_estimates(out_i).item()}$\" for out_i in out1], \n",
    "        [f\"Shifting the sdfs by ${shift}$ \\n $V={volume_estimates(out_i_shift).item()}$ (incr.: ${((volume_estimates(out_i_shift).item() - volume_estimates(out_i).item())/volume_estimates(out_i).item()):.2f}$)\" for out_i_shift, out_i in zip(out1+shift, out1)], \n",
    "])"
   ]
  },
  {
   "cell_type": "code",
   "execution_count": null,
   "id": "7bd209c7",
   "metadata": {},
   "outputs": [],
   "source": [
    "target_volume_increment = 1.3\n",
    "t_optim_idx = 3\n",
    "x_edited, x_t, x_t_optim = ddpm_sampler1.ddim_sample_latent_optimization(\n",
    "    model1, \n",
    "    x_0=out1_std, \n",
    "    obj_fn=volume_estimates_loss_fn,\n",
    "    obj_fn_args={\"target_volumes\": volume_estimates(out1_std) * (1+target_volume_increment)},\n",
    "    t_optim_idx=t_optim_idx,\n",
    "    tgt_noise_level=\"zero\",\n",
    "#    max_opt_iters=50,\n",
    "    loss_threshold=20,\n",
    "    #opt_kwargs={\"lr\":1e-3, \"weight_decay\": 1e-2}, # AdamW default # Too slow with lr=1e-3\n",
    "    opt_kwargs={\"lr\":1e-2, \"weight_decay\": 1e-2}, \n",
    ").values()\n",
    "\n",
    "plot_sdfs(sdfs=[x_t, x_t_optim], title=f\"Latent at $t={ddpm_sampler1.ddim_timesteps[t_optim_idx]}$\", titles=[\"Latent to be optimized\", \"Optimized latent\"]) \n",
    "\n",
    "plot_sdfs(\n",
    "    sdfs=[\n",
    "        out1, \n",
    "        preprocessor1.destandardize(x_edited), \n",
    "        # th.abs(out1- preprocessor1.destandardize(x_edited))\n",
    "    ], \n",
    "    title = f\"Optimization on the latent at $t={ddpm_sampler1.ddim_timesteps[t_optim_idx]}$ based on the volume at $t=0$\",\n",
    "    titles=[\n",
    "        [f\"Original ($V = {volume_estimates(out1_std)[i].item():.2f}$)\" for i in range(out1.shape[0])], \n",
    "        [f\"Edited ($V_E = {volume_estimates(x_edited)[i].item():.2f} - V_{{target}}: {volume_estimates(out1_std)[i].item() * (1+target_volume_increment):.2f})$\" for i in range(out1.shape[0])],\n",
    "        # [f\"Absolute difference between original and edited\" for i in range(out1.shape[0])]\n",
    "        ]\n",
    ")"
   ]
  },
  {
   "cell_type": "code",
   "execution_count": null,
   "id": "38a9d0ae",
   "metadata": {},
   "outputs": [],
   "source": [
    "shift = -0.0621\n",
    "plot_sdfs(\n",
    "    [out1, out1 + shift], \n",
    "    titles=[\n",
    "        [f\"Original \\n $V={volume_estimates(out_i).item()}$\" for out_i in out1], \n",
    "        [f\"Shifting the sdfs by ${shift}$ \\n $V={volume_estimates(out_i_shift).item()}$ (incr.: ${((volume_estimates(out_i_shift).item() - volume_estimates(out_i).item())/volume_estimates(out_i).item()):.2f}$)\" for out_i_shift, out_i in zip(out1+shift, out1)], \n",
    "])"
   ]
  },
  {
   "cell_type": "code",
   "execution_count": null,
   "id": "c6ecc18a",
   "metadata": {},
   "outputs": [],
   "source": [
    "shift = +0.055\n",
    "plot_sdfs(\n",
    "    [out1, out1 + shift], \n",
    "    titles=[\n",
    "        [f\"Original \\n $V={volume_estimates(out_i).item()}$\" for out_i in out1], \n",
    "        [f\"Shifting the sdfs by ${shift}$ \\n $V={volume_estimates(out_i_shift).item()}$ (incr.: ${((volume_estimates(out_i_shift).item() - volume_estimates(out_i).item())/volume_estimates(out_i).item()):.2f}$)\" for out_i_shift, out_i in zip(out1+shift, out1)], \n",
    "])"
   ]
  },
  {
   "cell_type": "code",
   "execution_count": null,
   "id": "81db8ea7",
   "metadata": {},
   "outputs": [],
   "source": [
    "target_volume_increment = -0.61\n",
    "t_optim_idx = 3\n",
    "x_edited, x_t, x_t_optim = ddpm_sampler1.ddim_sample_latent_optimization(\n",
    "    model1, \n",
    "    x_0=out1_std, \n",
    "    obj_fn=volume_estimates_loss_fn,\n",
    "    obj_fn_args={\"target_volumes\": volume_estimates(out1_std) * (1+target_volume_increment)},\n",
    "    t_optim_idx=t_optim_idx,\n",
    "    tgt_noise_level=\"zero\",\n",
    "#    max_opt_iters=50,\n",
    "    loss_threshold=20,\n",
    "    #opt_kwargs={\"lr\":1e-3, \"weight_decay\": 1e-2}, # AdamW default # Too slow with lr=1e-3\n",
    "    opt_kwargs={\"lr\":1e-2, \"weight_decay\": 1e-4}, \n",
    ").values()\n",
    "\n",
    "plot_sdfs(sdfs=[x_t, x_t_optim], title=f\"Latent at $t={ddpm_sampler1.ddim_timesteps[t_optim_idx]}$\", titles=[\"Latent to be optimized\", \"Optimized latent\"]) \n",
    "\n",
    "plot_sdfs(\n",
    "    sdfs=[\n",
    "        out1, \n",
    "        preprocessor1.destandardize(x_edited), \n",
    "        # th.abs(out1- preprocessor1.destandardize(x_edited))\n",
    "    ], \n",
    "    title = f\"Optimization on the latent at $t={ddpm_sampler1.ddim_timesteps[t_optim_idx]}$ based on the volume at $t=0$\",\n",
    "    titles=[\n",
    "        [f\"Original ($V = {volume_estimates(out1_std)[i].item():.2f}$)\" for i in range(out1.shape[0])], \n",
    "        [f\"Edited ($V_E = {volume_estimates(x_edited)[i].item():.2f} - V_{{target}}: {volume_estimates(out1_std)[i].item() * (1+target_volume_increment):.2f})$\" for i in range(out1.shape[0])],\n",
    "        # [f\"Absolute difference between original and edited\" for i in range(out1.shape[0])]\n",
    "        ]\n",
    ")"
   ]
  },
  {
   "cell_type": "code",
   "execution_count": null,
   "id": "56bd8f9e",
   "metadata": {},
   "outputs": [],
   "source": [
    "target_volume_increment = -0.61\n",
    "t_optim_idx = 4\n",
    "x_edited, x_t, x_t_optim = ddpm_sampler1.ddim_sample_latent_optimization(\n",
    "    model1, \n",
    "    x_0=out1_std, \n",
    "    obj_fn=volume_estimates_loss_fn,\n",
    "    obj_fn_args={\"target_volumes\": volume_estimates(out1_std) * (1+target_volume_increment)},\n",
    "    t_optim_idx=t_optim_idx,\n",
    "    tgt_noise_level=\"zero\",\n",
    "#    max_opt_iters=50,\n",
    "    loss_threshold=20,\n",
    "    #opt_kwargs={\"lr\":1e-3, \"weight_decay\": 1e-2}, # AdamW default # Too slow with lr=1e-3\n",
    "    opt_kwargs={\"lr\":1e-2, \"weight_decay\": 1e-2}, \n",
    ").values()\n",
    "\n",
    "plot_sdfs(sdfs=[x_t, x_t_optim], title=f\"Latent at $t={ddpm_sampler1.ddim_timesteps[t_optim_idx]}$\", titles=[\"Latent to be optimized\", \"Optimized latent\"]) \n",
    "\n",
    "plot_sdfs(\n",
    "    sdfs=[\n",
    "        out1, \n",
    "        preprocessor1.destandardize(x_edited), \n",
    "        # th.abs(out1- preprocessor1.destandardize(x_edited))\n",
    "    ], \n",
    "    title = f\"Optimization on the latent at $t={ddpm_sampler1.ddim_timesteps[t_optim_idx]}$ based on the volume at $t=0$\",\n",
    "    titles=[\n",
    "        [f\"Original ($V = {volume_estimates(out1_std)[i].item():.2f}$)\" for i in range(out1.shape[0])], \n",
    "        [f\"Edited ($V_E = {volume_estimates(x_edited)[i].item():.2f} - V_{{target}}: {volume_estimates(out1_std)[i].item() * (1+target_volume_increment):.2f})$\" for i in range(out1.shape[0])],\n",
    "        # [f\"Absolute difference between original and edited\" for i in range(out1.shape[0])]\n",
    "        ]\n",
    ")"
   ]
  },
  {
   "cell_type": "code",
   "execution_count": null,
   "id": "428f4dd1",
   "metadata": {},
   "outputs": [],
   "source": [
    "target_volume_increment = -0.61\n",
    "t_optim_idx = 5\n",
    "x_edited, x_t, x_t_optim = ddpm_sampler1.ddim_sample_latent_optimization(\n",
    "    model1, \n",
    "    x_0=out1_std, \n",
    "    obj_fn=volume_estimates_loss_fn,\n",
    "    obj_fn_args={\"target_volumes\": volume_estimates(out1_std) * (1+target_volume_increment)},\n",
    "    t_optim_idx=t_optim_idx,\n",
    "    tgt_noise_level=\"zero\",\n",
    "#    max_opt_iters=50,\n",
    "    loss_threshold=20,\n",
    "    #opt_kwargs={\"lr\":1e-3, \"weight_decay\": 1e-2}, # AdamW default # Too slow with lr=1e-3\n",
    "    opt_kwargs={\"lr\":1e-2, \"weight_decay\": 1e-2}, \n",
    ").values()\n",
    "\n",
    "plot_sdfs(sdfs=[x_t, x_t_optim], title=f\"Latent at $t={ddpm_sampler1.ddim_timesteps[t_optim_idx]}$\", titles=[\"Latent to be optimized\", \"Optimized latent\"]) \n",
    "\n",
    "plot_sdfs(\n",
    "    sdfs=[\n",
    "        out1, \n",
    "        preprocessor1.destandardize(x_edited), \n",
    "        # th.abs(out1- preprocessor1.destandardize(x_edited))\n",
    "    ], \n",
    "    title = f\"Optimization on the latent at $t={ddpm_sampler1.ddim_timesteps[t_optim_idx]}$ based on the volume at $t=0$\",\n",
    "    titles=[\n",
    "        [f\"Original ($V = {volume_estimates(out1_std)[i].item():.2f}$)\" for i in range(out1.shape[0])], \n",
    "        [f\"Edited ($V_E = {volume_estimates(x_edited)[i].item():.2f} - V_{{target}}: {volume_estimates(out1_std)[i].item() * (1+target_volume_increment):.2f})$\" for i in range(out1.shape[0])],\n",
    "        # [f\"Absolute difference between original and edited\" for i in range(out1.shape[0])]\n",
    "        ]\n",
    ")"
   ]
  },
  {
   "cell_type": "code",
   "execution_count": null,
   "id": "3637a80d",
   "metadata": {},
   "outputs": [],
   "source": [
    "target_volume_increment = -0.61\n",
    "t_optim_idx = 3\n",
    "x_edited, x_t, x_t_optim = ddpm_sampler1.ddim_sample_latent_optimization(\n",
    "    model1, \n",
    "    x_0=out1_std, \n",
    "    obj_fn=volume_estimates_loss_fn,\n",
    "    obj_fn_args={\"target_volumes\": volume_estimates(out1_std) * (1+target_volume_increment), \"max_volume\":1},\n",
    "    t_optim_idx=t_optim_idx,\n",
    "    tgt_noise_level=\"zero\",\n",
    "#    max_opt_iters=50,\n",
    "    loss_threshold=20,\n",
    "    opt_kwargs={\"lr\":1e-2, \"weight_decay\": 1e-3},\n",
    ").values()\n",
    "\n",
    "plot_sdfs(sdfs=[x_t, x_t_optim], title=f\"Latent at $t={ddpm_sampler1.ddim_timesteps[t_optim_idx]}$\", titles=[\"Latent to be optimized\", \"Optimized latent\"]) \n",
    "\n",
    "plot_sdfs(\n",
    "    sdfs=[out1, preprocessor1.destandardize(x_edited), th.abs(out1- preprocessor1.destandardize(x_edited))], \n",
    "    title = f\"Optimization on the latent at $t={ddpm_sampler1.ddim_timesteps[t_optim_idx]}$ based on the volume at $t=0$\",\n",
    "    titles=[\n",
    "        [f\"Original ($V = {volume_estimates(out1_std)[i].item():.2f}$)\" for i in range(out1.shape[0])], \n",
    "        [f\"Edited ($V_E = {volume_estimates(x_edited)[i].item():.2f} - V_{{target}}: {volume_estimates(out1_std)[i].item() * (1+target_volume_increment):.2f})$\" for i in range(out1.shape[0])],\n",
    "        [f\"Absolute difference between original and edited\" for i in range(out1.shape[0])]\n",
    "        ]\n",
    ")"
   ]
  },
  {
   "cell_type": "code",
   "execution_count": null,
   "id": "f33d4e28",
   "metadata": {},
   "outputs": [],
   "source": [
    "# for i, out in enumerate(preprocessor1.destandardize(x_edited)):\n",
    "#     save_sdf_as_mesh(f\"gen32_{i}_v40%incr_3steps.obj\", out, safe=True)\n",
    "\n",
    "# lr_cond_edit = F.interpolate(preprocessor1.destandardize(x_edited), (64, 64, 64), mode=\"nearest\")\n",
    "# lr_cond_edit = preprocessor2.standardize(lr_cond_edit, 0)\n",
    "# x_edited_sr = ddpm_sampler2.sample_ddim(lambda x, t: model2(th.cat([lr_cond_edit, x], 1), t), (out1.shape[0], 1, 64, 64, 64), show_pbar=True)\n",
    "\n",
    "# x_edited_sr = preprocessor2.destandardize(x_edited_sr, 1)\n",
    "\n",
    "# for i, out in enumerate(x_edited_sr):\n",
    "#     save_sdf_as_mesh(f\"sr64_{i}_v40%incr_3steps.obj\", out, safe=True)\n",
    "\n",
    "# plot_sdfs(\n",
    "#     sdfs=[out2, x_edited_sr], \n",
    "#     title = f\"Super-resolution results of optimization on the latent at $t={ddpm_sampler1.ddim_timesteps[t_optim_idx]}$ based on the volume at $t=0$\",\n",
    "#     titles=[\n",
    "#         [f\"Original (SR) ($V = {volume_estimates(out1_std)[i].item():.2f}$)\" for i in range(out1.shape[0])], \n",
    "#         [f\"Edited (SR) ($V_E = {volume_estimates(x_edited)[i].item():.2f} - V_{{target}}: {volume_estimates(out1_std)[i].item() * (1+target_volume_increment):.2f})$\" for i in range(out1.shape[0])],\n",
    "#         ]\n",
    "# )"
   ]
  },
  {
   "cell_type": "code",
   "execution_count": null,
   "id": "f305f303",
   "metadata": {},
   "outputs": [],
   "source": [
    "target_volume_increment = -0.61\n",
    "t_optim_idx = 6\n",
    "x_edited, x_t, x_t_optim = ddpm_sampler1.ddim_sample_latent_optimization(\n",
    "    model1, \n",
    "    x_0=out1_std, \n",
    "    obj_fn=volume_estimates_loss_fn,\n",
    "    obj_fn_args={\"target_volumes\": volume_estimates(out1_std) * (1+target_volume_increment), \"max_volume\":1},\n",
    "    t_optim_idx=t_optim_idx,\n",
    "    tgt_noise_level=\"zero\",\n",
    "#    max_opt_iters=50,\n",
    "    loss_threshold=20,\n",
    "    opt_kwargs={\"lr\":1e-2, \"weight_decay\": 1e-2},\n",
    ").values()\n",
    "\n",
    "plot_sdfs(sdfs=[x_t, x_t_optim], title=f\"Latent at $t={ddpm_sampler1.ddim_timesteps[t_optim_idx]}$\", titles=[\"Latent to be optimized\", \"Optimized latent\"]) \n",
    "\n",
    "plot_sdfs(\n",
    "    sdfs=[\n",
    "        out1, \n",
    "        preprocessor1.destandardize(x_edited), \n",
    "        # th.abs(out1- preprocessor1.destandardize(x_edited))\n",
    "    ], \n",
    "    title = f\"Optimization on the latent at $t={ddpm_sampler1.ddim_timesteps[t_optim_idx]}$ based on the volume at $t=0$\",\n",
    "    titles=[\n",
    "        [f\"Original ($V = {volume_estimates(out1_std)[i].item():.2f}$)\" for i in range(out1.shape[0])], \n",
    "        [f\"Edited ($V_E = {volume_estimates(x_edited)[i].item():.2f} - V_{{target}}: {volume_estimates(out1_std)[i].item() * (1+target_volume_increment):.2f})$\" for i in range(out1.shape[0])],\n",
    "        # [f\"Absolute difference between original and edited\" for i in range(out1.shape[0])]\n",
    "        ]\n",
    ")"
   ]
  },
  {
   "cell_type": "code",
   "execution_count": null,
   "id": "2e0b772e",
   "metadata": {},
   "outputs": [],
   "source": [
    "target_volume_increment = -0.61\n",
    "t_optim_idx = 5\n",
    "x_edited, x_t, x_t_optim = ddpm_sampler1.ddim_sample_latent_optimization(\n",
    "    model1, \n",
    "    x_0=out1_std, \n",
    "    obj_fn=volume_estimates_loss_fn,\n",
    "    obj_fn_args={\"target_volumes\": volume_estimates(out1_std) * (1+target_volume_increment), \"max_volume\":1},\n",
    "    t_optim_idx=t_optim_idx,\n",
    "    tgt_noise_level=\"zero\",\n",
    "#    max_opt_iters=50,\n",
    "    loss_threshold=20,\n",
    "    opt_kwargs={\"lr\":1e-2, \"weight_decay\": 0},\n",
    ").values()\n",
    "\n",
    "plot_sdfs(sdfs=[x_t, x_t_optim], title=f\"Latent at $t={ddpm_sampler1.ddim_timesteps[t_optim_idx]}$\", titles=[\"Latent to be optimized\", \"Optimized latent\"]) \n",
    "\n",
    "plot_sdfs(\n",
    "    sdfs=[\n",
    "        out1, \n",
    "        preprocessor1.destandardize(x_edited), \n",
    "        # th.abs(out1- preprocessor1.destandardize(x_edited))\n",
    "    ], \n",
    "    title = f\"Optimization on the latent at $t={ddpm_sampler1.ddim_timesteps[t_optim_idx]}$ based on the volume at $t=0$\",\n",
    "    titles=[\n",
    "        [f\"Original ($V = {volume_estimates(out1_std)[i].item():.2f}$)\" for i in range(out1.shape[0])], \n",
    "        [f\"Edited ($V_E = {volume_estimates(x_edited)[i].item():.2f} - V_{{target}}: {volume_estimates(out1_std)[i].item() * (1+target_volume_increment):.2f})$\" for i in range(out1.shape[0])],\n",
    "        # [f\"Absolute difference between original and edited\" for i in range(out1.shape[0])]\n",
    "        ]\n",
    ")"
   ]
  }
 ],
 "metadata": {
  "kernelspec": {
   "display_name": "pytorch-m1-3d",
   "language": "python",
   "name": "python3"
  },
  "language_info": {
   "codemirror_mode": {
    "name": "ipython",
    "version": 3
   },
   "file_extension": ".py",
   "mimetype": "text/x-python",
   "name": "python",
   "nbconvert_exporter": "python",
   "pygments_lexer": "ipython3",
   "version": "3.10.8"
  }
 },
 "nbformat": 4,
 "nbformat_minor": 5
}
